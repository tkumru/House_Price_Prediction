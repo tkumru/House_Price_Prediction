{
 "cells": [
  {
   "cell_type": "markdown",
   "id": "270d1aa5",
   "metadata": {},
   "source": [
    "# Handling Missing & Outliers\n",
    "In this capture, handle missing values and handle outliers values. After and before, get the accuracy of model for understanding optimization. We use the linear regression model for testing.\n",
    "## Configuration / Building Spark"
   ]
  },
  {
   "cell_type": "code",
   "execution_count": 1,
   "id": "a5091fd6",
   "metadata": {},
   "outputs": [],
   "source": [
    "from pyspark.sql import SparkSession, functions as F\n",
    "import findspark\n",
    "\n",
    "findspark.init(\"C:\\Program Files\\Spark\\spark-3.3.1-bin-hadoop3\")"
   ]
  },
  {
   "cell_type": "code",
   "execution_count": 2,
   "id": "d10b1570",
   "metadata": {},
   "outputs": [],
   "source": [
    "spark = SparkSession.builder \\\n",
    "    .appName(\"House Price Model\") \\\n",
    "    .master(\"local[2]\") \\\n",
    "    .config(\"spark.sql.shuffle.partitions\", \"2\") \\\n",
    "    .getOrCreate()"
   ]
  },
  {
   "cell_type": "markdown",
   "id": "62d567e7",
   "metadata": {},
   "source": [
    "## Get Saved Operations"
   ]
  },
  {
   "cell_type": "markdown",
   "id": "eb421c91",
   "metadata": {},
   "source": [
    "### Load Dataframe"
   ]
  },
  {
   "cell_type": "code",
   "execution_count": 3,
   "id": "aad2d3e6",
   "metadata": {},
   "outputs": [],
   "source": [
    "path = \"file:///Users/talha/OneDrive/Masaüstü/Talha Nebi Kumru/Data Science/Miuul/Machine Learning/House_Price_Prediction/datasets/eda/output/house.parquet\"\n",
    "df = spark.read \\\n",
    "    .format(\"parquet\") \\\n",
    "    .option(\"header\", True) \\\n",
    "    .option(\"inferSchema\", True) \\\n",
    "    .load(path)"
   ]
  },
  {
   "cell_type": "code",
   "execution_count": 4,
   "id": "b4ef3c8a",
   "metadata": {},
   "outputs": [
    {
     "data": {
      "text/html": [
       "<div>\n",
       "<style scoped>\n",
       "    .dataframe tbody tr th:only-of-type {\n",
       "        vertical-align: middle;\n",
       "    }\n",
       "\n",
       "    .dataframe tbody tr th {\n",
       "        vertical-align: top;\n",
       "    }\n",
       "\n",
       "    .dataframe thead th {\n",
       "        text-align: right;\n",
       "    }\n",
       "</style>\n",
       "<table border=\"1\" class=\"dataframe\">\n",
       "  <thead>\n",
       "    <tr style=\"text-align: right;\">\n",
       "      <th></th>\n",
       "      <th>MSSubClass</th>\n",
       "      <th>MSZoning</th>\n",
       "      <th>LotFrontage</th>\n",
       "      <th>LotArea</th>\n",
       "      <th>Street</th>\n",
       "      <th>LotShape</th>\n",
       "      <th>LandContour</th>\n",
       "      <th>Utilities</th>\n",
       "      <th>LotConfig</th>\n",
       "      <th>LandSlope</th>\n",
       "      <th>Neighborhood</th>\n",
       "      <th>Condition1</th>\n",
       "      <th>Condition2</th>\n",
       "      <th>BldgType</th>\n",
       "      <th>HouseStyle</th>\n",
       "      <th>OverallQual</th>\n",
       "      <th>OverallCond</th>\n",
       "      <th>YearBuilt</th>\n",
       "      <th>YearRemodAdd</th>\n",
       "      <th>RoofStyle</th>\n",
       "      <th>RoofMatl</th>\n",
       "      <th>Exterior1st</th>\n",
       "      <th>Exterior2nd</th>\n",
       "      <th>MasVnrType</th>\n",
       "      <th>MasVnrArea</th>\n",
       "      <th>ExterQual</th>\n",
       "      <th>ExterCond</th>\n",
       "      <th>Foundation</th>\n",
       "      <th>BsmtQual</th>\n",
       "      <th>BsmtCond</th>\n",
       "      <th>BsmtExposure</th>\n",
       "      <th>BsmtFinType1</th>\n",
       "      <th>BsmtFinSF1</th>\n",
       "      <th>BsmtFinType2</th>\n",
       "      <th>BsmtFinSF2</th>\n",
       "      <th>BsmtUnfSF</th>\n",
       "      <th>TotalBsmtSF</th>\n",
       "      <th>Heating</th>\n",
       "      <th>HeatingQC</th>\n",
       "      <th>CentralAir</th>\n",
       "      <th>Electrical</th>\n",
       "      <th>1stFlrSF</th>\n",
       "      <th>2ndFlrSF</th>\n",
       "      <th>LowQualFinSF</th>\n",
       "      <th>GrLivArea</th>\n",
       "      <th>BsmtFullBath</th>\n",
       "      <th>BsmtHalfBath</th>\n",
       "      <th>FullBath</th>\n",
       "      <th>HalfBath</th>\n",
       "      <th>BedroomAbvGr</th>\n",
       "      <th>KitchenAbvGr</th>\n",
       "      <th>KitchenQual</th>\n",
       "      <th>TotRmsAbvGrd</th>\n",
       "      <th>Functional</th>\n",
       "      <th>Fireplaces</th>\n",
       "      <th>GarageType</th>\n",
       "      <th>GarageYrBlt</th>\n",
       "      <th>GarageFinish</th>\n",
       "      <th>GarageCars</th>\n",
       "      <th>GarageArea</th>\n",
       "      <th>GarageQual</th>\n",
       "      <th>GarageCond</th>\n",
       "      <th>PavedDrive</th>\n",
       "      <th>WoodDeckSF</th>\n",
       "      <th>OpenPorchSF</th>\n",
       "      <th>EnclosedPorch</th>\n",
       "      <th>3SsnPorch</th>\n",
       "      <th>ScreenPorch</th>\n",
       "      <th>PoolArea</th>\n",
       "      <th>MiscVal</th>\n",
       "      <th>MoSold</th>\n",
       "      <th>YrSold</th>\n",
       "      <th>SaleType</th>\n",
       "      <th>SaleCondition</th>\n",
       "      <th>SalePrice</th>\n",
       "    </tr>\n",
       "  </thead>\n",
       "  <tbody>\n",
       "    <tr>\n",
       "      <th>0</th>\n",
       "      <td>60</td>\n",
       "      <td>RL</td>\n",
       "      <td>65</td>\n",
       "      <td>8450</td>\n",
       "      <td>Pave</td>\n",
       "      <td>Reg</td>\n",
       "      <td>Lvl</td>\n",
       "      <td>AllPub</td>\n",
       "      <td>Inside</td>\n",
       "      <td>Gtl</td>\n",
       "      <td>CollgCr</td>\n",
       "      <td>Norm</td>\n",
       "      <td>Norm</td>\n",
       "      <td>1Fam</td>\n",
       "      <td>2Story</td>\n",
       "      <td>7</td>\n",
       "      <td>5</td>\n",
       "      <td>2003</td>\n",
       "      <td>2003</td>\n",
       "      <td>Gable</td>\n",
       "      <td>CompShg</td>\n",
       "      <td>VinylSd</td>\n",
       "      <td>VinylSd</td>\n",
       "      <td>BrkFace</td>\n",
       "      <td>196</td>\n",
       "      <td>Gd</td>\n",
       "      <td>TA</td>\n",
       "      <td>PConc</td>\n",
       "      <td>Gd</td>\n",
       "      <td>TA</td>\n",
       "      <td>No</td>\n",
       "      <td>GLQ</td>\n",
       "      <td>706</td>\n",
       "      <td>Unf</td>\n",
       "      <td>0</td>\n",
       "      <td>150</td>\n",
       "      <td>856</td>\n",
       "      <td>GasA</td>\n",
       "      <td>Ex</td>\n",
       "      <td>Y</td>\n",
       "      <td>SBrkr</td>\n",
       "      <td>856</td>\n",
       "      <td>854</td>\n",
       "      <td>0</td>\n",
       "      <td>1710</td>\n",
       "      <td>1</td>\n",
       "      <td>0</td>\n",
       "      <td>2</td>\n",
       "      <td>1</td>\n",
       "      <td>3</td>\n",
       "      <td>1</td>\n",
       "      <td>Gd</td>\n",
       "      <td>8</td>\n",
       "      <td>Typ</td>\n",
       "      <td>0</td>\n",
       "      <td>Attchd</td>\n",
       "      <td>2003</td>\n",
       "      <td>RFn</td>\n",
       "      <td>2</td>\n",
       "      <td>548</td>\n",
       "      <td>TA</td>\n",
       "      <td>TA</td>\n",
       "      <td>Y</td>\n",
       "      <td>0</td>\n",
       "      <td>61</td>\n",
       "      <td>0</td>\n",
       "      <td>0</td>\n",
       "      <td>0</td>\n",
       "      <td>0</td>\n",
       "      <td>0</td>\n",
       "      <td>2</td>\n",
       "      <td>2008</td>\n",
       "      <td>WD</td>\n",
       "      <td>Normal</td>\n",
       "      <td>208500</td>\n",
       "    </tr>\n",
       "    <tr>\n",
       "      <th>1</th>\n",
       "      <td>20</td>\n",
       "      <td>RL</td>\n",
       "      <td>80</td>\n",
       "      <td>9600</td>\n",
       "      <td>Pave</td>\n",
       "      <td>Reg</td>\n",
       "      <td>Lvl</td>\n",
       "      <td>AllPub</td>\n",
       "      <td>FR2</td>\n",
       "      <td>Gtl</td>\n",
       "      <td>Veenker</td>\n",
       "      <td>Feedr</td>\n",
       "      <td>Norm</td>\n",
       "      <td>1Fam</td>\n",
       "      <td>1Story</td>\n",
       "      <td>6</td>\n",
       "      <td>8</td>\n",
       "      <td>1976</td>\n",
       "      <td>1976</td>\n",
       "      <td>Gable</td>\n",
       "      <td>CompShg</td>\n",
       "      <td>MetalSd</td>\n",
       "      <td>MetalSd</td>\n",
       "      <td>None</td>\n",
       "      <td>0</td>\n",
       "      <td>TA</td>\n",
       "      <td>TA</td>\n",
       "      <td>CBlock</td>\n",
       "      <td>Gd</td>\n",
       "      <td>TA</td>\n",
       "      <td>Gd</td>\n",
       "      <td>ALQ</td>\n",
       "      <td>978</td>\n",
       "      <td>Unf</td>\n",
       "      <td>0</td>\n",
       "      <td>284</td>\n",
       "      <td>1262</td>\n",
       "      <td>GasA</td>\n",
       "      <td>Ex</td>\n",
       "      <td>Y</td>\n",
       "      <td>SBrkr</td>\n",
       "      <td>1262</td>\n",
       "      <td>0</td>\n",
       "      <td>0</td>\n",
       "      <td>1262</td>\n",
       "      <td>0</td>\n",
       "      <td>1</td>\n",
       "      <td>2</td>\n",
       "      <td>0</td>\n",
       "      <td>3</td>\n",
       "      <td>1</td>\n",
       "      <td>TA</td>\n",
       "      <td>6</td>\n",
       "      <td>Typ</td>\n",
       "      <td>1</td>\n",
       "      <td>Attchd</td>\n",
       "      <td>1976</td>\n",
       "      <td>RFn</td>\n",
       "      <td>2</td>\n",
       "      <td>460</td>\n",
       "      <td>TA</td>\n",
       "      <td>TA</td>\n",
       "      <td>Y</td>\n",
       "      <td>298</td>\n",
       "      <td>0</td>\n",
       "      <td>0</td>\n",
       "      <td>0</td>\n",
       "      <td>0</td>\n",
       "      <td>0</td>\n",
       "      <td>0</td>\n",
       "      <td>5</td>\n",
       "      <td>2007</td>\n",
       "      <td>WD</td>\n",
       "      <td>Normal</td>\n",
       "      <td>181500</td>\n",
       "    </tr>\n",
       "    <tr>\n",
       "      <th>2</th>\n",
       "      <td>60</td>\n",
       "      <td>RL</td>\n",
       "      <td>68</td>\n",
       "      <td>11250</td>\n",
       "      <td>Pave</td>\n",
       "      <td>IR1</td>\n",
       "      <td>Lvl</td>\n",
       "      <td>AllPub</td>\n",
       "      <td>Inside</td>\n",
       "      <td>Gtl</td>\n",
       "      <td>CollgCr</td>\n",
       "      <td>Norm</td>\n",
       "      <td>Norm</td>\n",
       "      <td>1Fam</td>\n",
       "      <td>2Story</td>\n",
       "      <td>7</td>\n",
       "      <td>5</td>\n",
       "      <td>2001</td>\n",
       "      <td>2002</td>\n",
       "      <td>Gable</td>\n",
       "      <td>CompShg</td>\n",
       "      <td>VinylSd</td>\n",
       "      <td>VinylSd</td>\n",
       "      <td>BrkFace</td>\n",
       "      <td>162</td>\n",
       "      <td>Gd</td>\n",
       "      <td>TA</td>\n",
       "      <td>PConc</td>\n",
       "      <td>Gd</td>\n",
       "      <td>TA</td>\n",
       "      <td>Mn</td>\n",
       "      <td>GLQ</td>\n",
       "      <td>486</td>\n",
       "      <td>Unf</td>\n",
       "      <td>0</td>\n",
       "      <td>434</td>\n",
       "      <td>920</td>\n",
       "      <td>GasA</td>\n",
       "      <td>Ex</td>\n",
       "      <td>Y</td>\n",
       "      <td>SBrkr</td>\n",
       "      <td>920</td>\n",
       "      <td>866</td>\n",
       "      <td>0</td>\n",
       "      <td>1786</td>\n",
       "      <td>1</td>\n",
       "      <td>0</td>\n",
       "      <td>2</td>\n",
       "      <td>1</td>\n",
       "      <td>3</td>\n",
       "      <td>1</td>\n",
       "      <td>Gd</td>\n",
       "      <td>6</td>\n",
       "      <td>Typ</td>\n",
       "      <td>1</td>\n",
       "      <td>Attchd</td>\n",
       "      <td>2001</td>\n",
       "      <td>RFn</td>\n",
       "      <td>2</td>\n",
       "      <td>608</td>\n",
       "      <td>TA</td>\n",
       "      <td>TA</td>\n",
       "      <td>Y</td>\n",
       "      <td>0</td>\n",
       "      <td>42</td>\n",
       "      <td>0</td>\n",
       "      <td>0</td>\n",
       "      <td>0</td>\n",
       "      <td>0</td>\n",
       "      <td>0</td>\n",
       "      <td>9</td>\n",
       "      <td>2008</td>\n",
       "      <td>WD</td>\n",
       "      <td>Normal</td>\n",
       "      <td>223500</td>\n",
       "    </tr>\n",
       "    <tr>\n",
       "      <th>3</th>\n",
       "      <td>70</td>\n",
       "      <td>RL</td>\n",
       "      <td>60</td>\n",
       "      <td>9550</td>\n",
       "      <td>Pave</td>\n",
       "      <td>IR1</td>\n",
       "      <td>Lvl</td>\n",
       "      <td>AllPub</td>\n",
       "      <td>Corner</td>\n",
       "      <td>Gtl</td>\n",
       "      <td>Crawfor</td>\n",
       "      <td>Norm</td>\n",
       "      <td>Norm</td>\n",
       "      <td>1Fam</td>\n",
       "      <td>2Story</td>\n",
       "      <td>7</td>\n",
       "      <td>5</td>\n",
       "      <td>1915</td>\n",
       "      <td>1970</td>\n",
       "      <td>Gable</td>\n",
       "      <td>CompShg</td>\n",
       "      <td>Wd Sdng</td>\n",
       "      <td>Wd Shng</td>\n",
       "      <td>None</td>\n",
       "      <td>0</td>\n",
       "      <td>TA</td>\n",
       "      <td>TA</td>\n",
       "      <td>BrkTil</td>\n",
       "      <td>TA</td>\n",
       "      <td>Gd</td>\n",
       "      <td>No</td>\n",
       "      <td>ALQ</td>\n",
       "      <td>216</td>\n",
       "      <td>Unf</td>\n",
       "      <td>0</td>\n",
       "      <td>540</td>\n",
       "      <td>756</td>\n",
       "      <td>GasA</td>\n",
       "      <td>Gd</td>\n",
       "      <td>Y</td>\n",
       "      <td>SBrkr</td>\n",
       "      <td>961</td>\n",
       "      <td>756</td>\n",
       "      <td>0</td>\n",
       "      <td>1717</td>\n",
       "      <td>1</td>\n",
       "      <td>0</td>\n",
       "      <td>1</td>\n",
       "      <td>0</td>\n",
       "      <td>3</td>\n",
       "      <td>1</td>\n",
       "      <td>Gd</td>\n",
       "      <td>7</td>\n",
       "      <td>Typ</td>\n",
       "      <td>1</td>\n",
       "      <td>Detchd</td>\n",
       "      <td>1998</td>\n",
       "      <td>Unf</td>\n",
       "      <td>3</td>\n",
       "      <td>642</td>\n",
       "      <td>TA</td>\n",
       "      <td>TA</td>\n",
       "      <td>Y</td>\n",
       "      <td>0</td>\n",
       "      <td>35</td>\n",
       "      <td>272</td>\n",
       "      <td>0</td>\n",
       "      <td>0</td>\n",
       "      <td>0</td>\n",
       "      <td>0</td>\n",
       "      <td>2</td>\n",
       "      <td>2006</td>\n",
       "      <td>WD</td>\n",
       "      <td>Abnorml</td>\n",
       "      <td>140000</td>\n",
       "    </tr>\n",
       "    <tr>\n",
       "      <th>4</th>\n",
       "      <td>60</td>\n",
       "      <td>RL</td>\n",
       "      <td>84</td>\n",
       "      <td>14260</td>\n",
       "      <td>Pave</td>\n",
       "      <td>IR1</td>\n",
       "      <td>Lvl</td>\n",
       "      <td>AllPub</td>\n",
       "      <td>FR2</td>\n",
       "      <td>Gtl</td>\n",
       "      <td>NoRidge</td>\n",
       "      <td>Norm</td>\n",
       "      <td>Norm</td>\n",
       "      <td>1Fam</td>\n",
       "      <td>2Story</td>\n",
       "      <td>8</td>\n",
       "      <td>5</td>\n",
       "      <td>2000</td>\n",
       "      <td>2000</td>\n",
       "      <td>Gable</td>\n",
       "      <td>CompShg</td>\n",
       "      <td>VinylSd</td>\n",
       "      <td>VinylSd</td>\n",
       "      <td>BrkFace</td>\n",
       "      <td>350</td>\n",
       "      <td>Gd</td>\n",
       "      <td>TA</td>\n",
       "      <td>PConc</td>\n",
       "      <td>Gd</td>\n",
       "      <td>TA</td>\n",
       "      <td>Av</td>\n",
       "      <td>GLQ</td>\n",
       "      <td>655</td>\n",
       "      <td>Unf</td>\n",
       "      <td>0</td>\n",
       "      <td>490</td>\n",
       "      <td>1145</td>\n",
       "      <td>GasA</td>\n",
       "      <td>Ex</td>\n",
       "      <td>Y</td>\n",
       "      <td>SBrkr</td>\n",
       "      <td>1145</td>\n",
       "      <td>1053</td>\n",
       "      <td>0</td>\n",
       "      <td>2198</td>\n",
       "      <td>1</td>\n",
       "      <td>0</td>\n",
       "      <td>2</td>\n",
       "      <td>1</td>\n",
       "      <td>4</td>\n",
       "      <td>1</td>\n",
       "      <td>Gd</td>\n",
       "      <td>9</td>\n",
       "      <td>Typ</td>\n",
       "      <td>1</td>\n",
       "      <td>Attchd</td>\n",
       "      <td>2000</td>\n",
       "      <td>RFn</td>\n",
       "      <td>3</td>\n",
       "      <td>836</td>\n",
       "      <td>TA</td>\n",
       "      <td>TA</td>\n",
       "      <td>Y</td>\n",
       "      <td>192</td>\n",
       "      <td>84</td>\n",
       "      <td>0</td>\n",
       "      <td>0</td>\n",
       "      <td>0</td>\n",
       "      <td>0</td>\n",
       "      <td>0</td>\n",
       "      <td>12</td>\n",
       "      <td>2008</td>\n",
       "      <td>WD</td>\n",
       "      <td>Normal</td>\n",
       "      <td>250000</td>\n",
       "    </tr>\n",
       "  </tbody>\n",
       "</table>\n",
       "</div>"
      ],
      "text/plain": [
       "   MSSubClass MSZoning  LotFrontage  ...  SaleType SaleCondition SalePrice\n",
       "0          60       RL           65  ...        WD        Normal    208500\n",
       "1          20       RL           80  ...        WD        Normal    181500\n",
       "2          60       RL           68  ...        WD        Normal    223500\n",
       "3          70       RL           60  ...        WD       Abnorml    140000\n",
       "4          60       RL           84  ...        WD        Normal    250000\n",
       "\n",
       "[5 rows x 75 columns]"
      ]
     },
     "execution_count": 4,
     "metadata": {},
     "output_type": "execute_result"
    }
   ],
   "source": [
    "df.limit(5).toPandas()"
   ]
  },
  {
   "cell_type": "markdown",
   "id": "6b234477",
   "metadata": {},
   "source": [
    "### Load Seperated Columns"
   ]
  },
  {
   "cell_type": "code",
   "execution_count": 5,
   "id": "f79443da",
   "metadata": {},
   "outputs": [],
   "source": [
    "import pickle"
   ]
  },
  {
   "cell_type": "code",
   "execution_count": 6,
   "id": "98e1f1f4",
   "metadata": {},
   "outputs": [],
   "source": [
    "with open(\"datasets/eda/categorical_columns\", \"rb\") as file:\n",
    "    categorical_cols = pickle.load(file)"
   ]
  },
  {
   "cell_type": "code",
   "execution_count": 7,
   "id": "39d98354",
   "metadata": {},
   "outputs": [],
   "source": [
    "with open(\"datasets/eda/numerical_columns\", \"rb\") as file:\n",
    "    numerical_cols = pickle.load(file)"
   ]
  },
  {
   "cell_type": "code",
   "execution_count": 8,
   "id": "73bd8b29",
   "metadata": {},
   "outputs": [
    {
     "data": {
      "text/plain": [
       "[('MSSubClass', 'int'),\n",
       " ('EnclosedPorch', 'int'),\n",
       " ('GrLivArea', 'int'),\n",
       " ('PoolArea', 'int'),\n",
       " ('OverallQual', 'int'),\n",
       " ('FullBath', 'int'),\n",
       " ('LotArea', 'int'),\n",
       " ('MoSold', 'int'),\n",
       " ('YearBuilt', 'int'),\n",
       " ('OpenPorchSF', 'int'),\n",
       " ('1stFlrSF', 'int'),\n",
       " ('OverallCond', 'int'),\n",
       " ('2ndFlrSF', 'int'),\n",
       " ('LowQualFinSF', 'int'),\n",
       " ('TotRmsAbvGrd', 'int'),\n",
       " ('YearRemodAdd', 'int'),\n",
       " ('WoodDeckSF', 'int'),\n",
       " ('Fireplaces', 'int'),\n",
       " ('BedroomAbvGr', 'int'),\n",
       " ('MiscVal', 'int'),\n",
       " ('HalfBath', 'int'),\n",
       " ('YrSold', 'int'),\n",
       " ('KitchenAbvGr', 'int'),\n",
       " ('3SsnPorch', 'int'),\n",
       " ('ScreenPorch', 'int'),\n",
       " ('SalePrice', 'int'),\n",
       " ('LotFrontage', 'int'),\n",
       " ('MasVnrArea', 'int'),\n",
       " ('BsmtFinSF1', 'int'),\n",
       " ('BsmtFinSF2', 'int'),\n",
       " ('BsmtUnfSF', 'int'),\n",
       " ('TotalBsmtSF', 'int'),\n",
       " ('BsmtFullBath', 'int'),\n",
       " ('BsmtHalfBath', 'int'),\n",
       " ('GarageCars', 'int'),\n",
       " ('GarageArea', 'int'),\n",
       " ('GarageYrBlt', 'int')]"
      ]
     },
     "execution_count": 8,
     "metadata": {},
     "output_type": "execute_result"
    }
   ],
   "source": [
    "df.select(numerical_cols).dtypes"
   ]
  },
  {
   "cell_type": "code",
   "execution_count": 9,
   "id": "b8b86924",
   "metadata": {},
   "outputs": [],
   "source": [
    "numerical_cols = [col for col in numerical_cols if col != 'SalePrice']\n",
    "categorical_cols = [col for col in categorical_cols\n",
    "                    if col not in ['Alley', 'PoolQC', 'Fence', 'MiscFeature', 'FireplaceQu']] # I forgot it"
   ]
  },
  {
   "cell_type": "code",
   "execution_count": 10,
   "id": "952d612f",
   "metadata": {},
   "outputs": [
    {
     "data": {
      "text/plain": [
       "[('MSZoning', 'string'),\n",
       " ('Street', 'string'),\n",
       " ('LotShape', 'string'),\n",
       " ('LandContour', 'string'),\n",
       " ('Utilities', 'string'),\n",
       " ('LotConfig', 'string'),\n",
       " ('LandSlope', 'string'),\n",
       " ('Neighborhood', 'string'),\n",
       " ('Condition1', 'string'),\n",
       " ('Condition2', 'string'),\n",
       " ('BldgType', 'string'),\n",
       " ('HouseStyle', 'string'),\n",
       " ('RoofStyle', 'string'),\n",
       " ('RoofMatl', 'string'),\n",
       " ('Exterior1st', 'string'),\n",
       " ('Exterior2nd', 'string'),\n",
       " ('MasVnrType', 'string'),\n",
       " ('ExterQual', 'string'),\n",
       " ('ExterCond', 'string'),\n",
       " ('Foundation', 'string'),\n",
       " ('BsmtQual', 'string'),\n",
       " ('BsmtCond', 'string'),\n",
       " ('BsmtExposure', 'string'),\n",
       " ('BsmtFinType1', 'string'),\n",
       " ('BsmtFinType2', 'string'),\n",
       " ('Heating', 'string'),\n",
       " ('HeatingQC', 'string'),\n",
       " ('CentralAir', 'string'),\n",
       " ('Electrical', 'string'),\n",
       " ('KitchenQual', 'string'),\n",
       " ('Functional', 'string'),\n",
       " ('GarageType', 'string'),\n",
       " ('GarageFinish', 'string'),\n",
       " ('GarageQual', 'string'),\n",
       " ('GarageCond', 'string'),\n",
       " ('PavedDrive', 'string'),\n",
       " ('SaleType', 'string'),\n",
       " ('SaleCondition', 'string')]"
      ]
     },
     "execution_count": 10,
     "metadata": {},
     "output_type": "execute_result"
    }
   ],
   "source": [
    "df.select(categorical_cols).dtypes"
   ]
  },
  {
   "cell_type": "markdown",
   "id": "72892ee1",
   "metadata": {},
   "source": [
    "### Load Missing and Outliers"
   ]
  },
  {
   "cell_type": "code",
   "execution_count": 11,
   "id": "2fe1217d",
   "metadata": {},
   "outputs": [],
   "source": [
    "import json"
   ]
  },
  {
   "cell_type": "code",
   "execution_count": 12,
   "id": "1ccb6473",
   "metadata": {},
   "outputs": [],
   "source": [
    "with open(\"datasets/eda/missing_values.json\") as file:\n",
    "    missing_values = json.load(file)"
   ]
  },
  {
   "cell_type": "code",
   "execution_count": 13,
   "id": "89533b45",
   "metadata": {},
   "outputs": [],
   "source": [
    "with open(\"datasets/eda/outlier_values.json\") as file:\n",
    "    outlier_values = json.load(file)"
   ]
  },
  {
   "cell_type": "markdown",
   "id": "07f67ddb",
   "metadata": {},
   "source": [
    "### Configuration"
   ]
  },
  {
   "cell_type": "code",
   "execution_count": 14,
   "id": "d354bd40",
   "metadata": {},
   "outputs": [],
   "source": [
    "from _missing_utils import replace_null\n",
    "\n",
    "df = replace_null(df)"
   ]
  },
  {
   "cell_type": "markdown",
   "id": "65e82be6",
   "metadata": {},
   "source": [
    "## Test Dataset"
   ]
  },
  {
   "cell_type": "code",
   "execution_count": 15,
   "id": "56b309e2",
   "metadata": {},
   "outputs": [],
   "source": [
    "import numpy as np\n",
    "import pandas as pd\n",
    "import matplotlib.pyplot as plt\n",
    "import seaborn as sns\n",
    "\n",
    "from sklearn.linear_model import LinearRegression\n",
    "from sklearn.metrics import mean_squared_error, mean_absolute_error\n",
    "from sklearn.model_selection import train_test_split, cross_val_score"
   ]
  },
  {
   "cell_type": "code",
   "execution_count": 16,
   "id": "64ba24c7",
   "metadata": {},
   "outputs": [],
   "source": [
    "from _missing_utils import remove_missing_values\n",
    "\n",
    "non_missing_target_df = df.toPandas().dropna()\n",
    "non_missing_target_df = pd.get_dummies(non_missing_target_df, drop_first=True)\n",
    "\n",
    "X = non_missing_target_df.drop('SalePrice', axis=1)\n",
    "y = non_missing_target_df[['SalePrice']]\n",
    "\n",
    "X_train, X_test, y_train, y_test = train_test_split(X, y, test_size=0.2, random_state=7)"
   ]
  },
  {
   "cell_type": "code",
   "execution_count": 17,
   "id": "dc7aa1b4",
   "metadata": {},
   "outputs": [],
   "source": [
    "reg_model = LinearRegression().fit(X_train, y_train)"
   ]
  },
  {
   "cell_type": "code",
   "execution_count": 18,
   "id": "0fd21288",
   "metadata": {},
   "outputs": [],
   "source": [
    "y_pred = reg_model.predict(X_train)"
   ]
  },
  {
   "cell_type": "code",
   "execution_count": 19,
   "id": "6cfa6b58",
   "metadata": {},
   "outputs": [
    {
     "data": {
      "text/plain": [
       "0.5709561893035657"
      ]
     },
     "execution_count": 19,
     "metadata": {},
     "output_type": "execute_result"
    }
   ],
   "source": [
    "reg_model.score(X_test, y_test) # R-square"
   ]
  },
  {
   "cell_type": "markdown",
   "id": "b70fc65f",
   "metadata": {},
   "source": [
    "As we see, before the handling missing values and outliers, r2 score is **0.5709**."
   ]
  },
  {
   "cell_type": "markdown",
   "id": "89afc61f",
   "metadata": {},
   "source": [
    "## Missing Values"
   ]
  },
  {
   "cell_type": "code",
   "execution_count": 20,
   "id": "c05b612d",
   "metadata": {},
   "outputs": [
    {
     "data": {
      "text/plain": [
       "2919"
      ]
     },
     "execution_count": 20,
     "metadata": {},
     "output_type": "execute_result"
    }
   ],
   "source": [
    "df.count()"
   ]
  },
  {
   "cell_type": "code",
   "execution_count": 21,
   "id": "5f469227",
   "metadata": {},
   "outputs": [
    {
     "name": "stdout",
     "output_type": "stream",
     "text": [
      "{'column_name': 'MSZoning', 'null_count': 4, 'ratio': 0.1370332305584104}\n",
      "{'column_name': 'LotFrontage', 'null_count': 486, 'ratio': 16.649537512846866}\n",
      "{'column_name': 'Utilities', 'null_count': 2, 'ratio': 0.0685166152792052}\n",
      "{'column_name': 'Exterior1st', 'null_count': 1, 'ratio': 0.0342583076396026}\n",
      "{'column_name': 'Exterior2nd', 'null_count': 1, 'ratio': 0.0342583076396026}\n",
      "{'column_name': 'MasVnrType', 'null_count': 24, 'ratio': 0.8221993833504625}\n",
      "{'column_name': 'MasVnrArea', 'null_count': 23, 'ratio': 0.7879410757108599}\n",
      "{'column_name': 'BsmtQual', 'null_count': 81, 'ratio': 2.774922918807811}\n",
      "{'column_name': 'BsmtCond', 'null_count': 82, 'ratio': 2.8091812264474134}\n",
      "{'column_name': 'BsmtExposure', 'null_count': 82, 'ratio': 2.8091812264474134}\n",
      "{'column_name': 'BsmtFinType1', 'null_count': 79, 'ratio': 2.7064063035286057}\n",
      "{'column_name': 'BsmtFinSF1', 'null_count': 1, 'ratio': 0.0342583076396026}\n",
      "{'column_name': 'BsmtFinType2', 'null_count': 80, 'ratio': 2.7406646111682083}\n",
      "{'column_name': 'BsmtFinSF2', 'null_count': 1, 'ratio': 0.0342583076396026}\n",
      "{'column_name': 'BsmtUnfSF', 'null_count': 1, 'ratio': 0.0342583076396026}\n",
      "{'column_name': 'TotalBsmtSF', 'null_count': 1, 'ratio': 0.0342583076396026}\n",
      "{'column_name': 'Electrical', 'null_count': 1, 'ratio': 0.0342583076396026}\n",
      "{'column_name': 'BsmtFullBath', 'null_count': 2, 'ratio': 0.0685166152792052}\n",
      "{'column_name': 'BsmtHalfBath', 'null_count': 2, 'ratio': 0.0685166152792052}\n",
      "{'column_name': 'KitchenQual', 'null_count': 1, 'ratio': 0.0342583076396026}\n",
      "{'column_name': 'Functional', 'null_count': 2, 'ratio': 0.0685166152792052}\n",
      "{'column_name': 'GarageType', 'null_count': 157, 'ratio': 5.378554299417608}\n",
      "{'column_name': 'GarageYrBlt', 'null_count': 159, 'ratio': 5.4470709146968135}\n",
      "{'column_name': 'GarageFinish', 'null_count': 159, 'ratio': 5.4470709146968135}\n",
      "{'column_name': 'GarageCars', 'null_count': 1, 'ratio': 0.0342583076396026}\n",
      "{'column_name': 'GarageArea', 'null_count': 1, 'ratio': 0.0342583076396026}\n",
      "{'column_name': 'GarageQual', 'null_count': 159, 'ratio': 5.4470709146968135}\n",
      "{'column_name': 'GarageCond', 'null_count': 159, 'ratio': 5.4470709146968135}\n",
      "{'column_name': 'SaleType', 'null_count': 1, 'ratio': 0.0342583076396026}\n",
      "{'column_name': 'SalePrice', 'null_count': 1459, 'ratio': 49.9828708461802}\n"
     ]
    }
   ],
   "source": [
    "for miss in missing_values:\n",
    "    print(missing_values.get(miss))"
   ]
  },
  {
   "cell_type": "markdown",
   "id": "fd9f1eb0",
   "metadata": {},
   "source": [
    "Own method is for missing values;\n",
    "* Delete missing values if ratio lower than %1.\n",
    "* Fill missing values with median or mean if ratio lower than %10.\n",
    "* Fill missing values with KNN imputer if ratio higher than %10."
   ]
  },
  {
   "cell_type": "code",
   "execution_count": 22,
   "id": "400ef1c5",
   "metadata": {},
   "outputs": [],
   "source": [
    "delete_list = [missing_values.get(index)['column_name'] for index in missing_values \n",
    "               if missing_values.get(index)['ratio'] <= 1]"
   ]
  },
  {
   "cell_type": "code",
   "execution_count": 23,
   "id": "58e49a73",
   "metadata": {},
   "outputs": [],
   "source": [
    "median_mean_list = [missing_values.get(index)['column_name'] for index in missing_values \n",
    "                   if missing_values.get(index)['ratio'] > 1 and missing_values.get(index)['ratio'] <= 10]"
   ]
  },
  {
   "cell_type": "code",
   "execution_count": 24,
   "id": "0413e97b",
   "metadata": {},
   "outputs": [],
   "source": [
    "knn_imputer_list = [missing_values.get(index)['column_name'] for index in missing_values \n",
    "                   if missing_values.get(index)['ratio'] > 10]"
   ]
  },
  {
   "cell_type": "code",
   "execution_count": 25,
   "id": "f6f8562c",
   "metadata": {},
   "outputs": [
    {
     "data": {
      "text/plain": [
       "True"
      ]
     },
     "execution_count": 25,
     "metadata": {},
     "output_type": "execute_result"
    }
   ],
   "source": [
    "len(missing_values) == len(delete_list) + len(median_mean_list) + len(knn_imputer_list)"
   ]
  },
  {
   "cell_type": "markdown",
   "id": "1092d29b",
   "metadata": {},
   "source": [
    "Seperation is done. Only have to remove *SalePrice* column from knn_imputer_list because it is target column."
   ]
  },
  {
   "cell_type": "code",
   "execution_count": 26,
   "id": "4f7c03e6",
   "metadata": {},
   "outputs": [],
   "source": [
    "knn_imputer_list = [col for col in knn_imputer_list if col != 'SalePrice']"
   ]
  },
  {
   "cell_type": "markdown",
   "id": "1c5b5017",
   "metadata": {},
   "source": [
    "### Deletion"
   ]
  },
  {
   "cell_type": "code",
   "execution_count": 27,
   "id": "bcae368b",
   "metadata": {},
   "outputs": [],
   "source": [
    "from _eda_utils import check_missing_values\n",
    "from _missing_utils import remove_missing_values"
   ]
  },
  {
   "cell_type": "code",
   "execution_count": 28,
   "id": "8d5ef56e",
   "metadata": {},
   "outputs": [],
   "source": [
    "df = remove_missing_values(df, delete_list)"
   ]
  },
  {
   "cell_type": "code",
   "execution_count": 29,
   "id": "b9a22824",
   "metadata": {},
   "outputs": [
    {
     "name": "stdout",
     "output_type": "stream",
     "text": [
      "2023-04-10 00:19:22,564 - logging_utils - DEBUG - check_missing_values executing...\n"
     ]
    }
   ],
   "source": [
    "check_missing_values(df.select(delete_list))"
   ]
  },
  {
   "cell_type": "code",
   "execution_count": 30,
   "id": "a182201d",
   "metadata": {},
   "outputs": [
    {
     "data": {
      "text/plain": [
       "2882"
      ]
     },
     "execution_count": 30,
     "metadata": {},
     "output_type": "execute_result"
    }
   ],
   "source": [
    "df.count()"
   ]
  },
  {
   "cell_type": "markdown",
   "id": "a2793292",
   "metadata": {},
   "source": [
    "Before the deletion dataset has 2919 rows but now datasets has 2882 rows."
   ]
  },
  {
   "cell_type": "markdown",
   "id": "5c66ce92",
   "metadata": {},
   "source": [
    "### Filling Median or Mean or Mode"
   ]
  },
  {
   "cell_type": "code",
   "execution_count": 31,
   "id": "3644b0c8",
   "metadata": {},
   "outputs": [
    {
     "data": {
      "text/plain": [
       "[('BsmtQual', 'string'),\n",
       " ('BsmtCond', 'string'),\n",
       " ('BsmtExposure', 'string'),\n",
       " ('BsmtFinType1', 'string'),\n",
       " ('BsmtFinType2', 'string'),\n",
       " ('GarageType', 'string'),\n",
       " ('GarageYrBlt', 'int'),\n",
       " ('GarageFinish', 'string'),\n",
       " ('GarageQual', 'string'),\n",
       " ('GarageCond', 'string')]"
      ]
     },
     "execution_count": 31,
     "metadata": {},
     "output_type": "execute_result"
    }
   ],
   "source": [
    "df.select(median_mean_list).dtypes"
   ]
  },
  {
   "cell_type": "code",
   "execution_count": 32,
   "id": "4ccc5af7",
   "metadata": {},
   "outputs": [
    {
     "name": "stdout",
     "output_type": "stream",
     "text": [
      "{'column_name': 'BsmtQual', 'null_count': 81, 'ratio': 2.774922918807811}\n",
      "{'column_name': 'BsmtCond', 'null_count': 82, 'ratio': 2.8091812264474134}\n",
      "{'column_name': 'BsmtExposure', 'null_count': 82, 'ratio': 2.8091812264474134}\n",
      "{'column_name': 'BsmtFinType1', 'null_count': 79, 'ratio': 2.7064063035286057}\n",
      "{'column_name': 'BsmtFinType2', 'null_count': 80, 'ratio': 2.7406646111682083}\n",
      "{'column_name': 'GarageType', 'null_count': 157, 'ratio': 5.378554299417608}\n",
      "{'column_name': 'GarageYrBlt', 'null_count': 159, 'ratio': 5.4470709146968135}\n",
      "{'column_name': 'GarageFinish', 'null_count': 159, 'ratio': 5.4470709146968135}\n",
      "{'column_name': 'GarageQual', 'null_count': 159, 'ratio': 5.4470709146968135}\n",
      "{'column_name': 'GarageCond', 'null_count': 159, 'ratio': 5.4470709146968135}\n"
     ]
    }
   ],
   "source": [
    "for index in missing_values:\n",
    "    if missing_values.get(index)[\"column_name\"] in median_mean_list:\n",
    "        print(missing_values.get(index))"
   ]
  },
  {
   "cell_type": "markdown",
   "id": "8bf3dc08",
   "metadata": {},
   "source": [
    "#### String Variables"
   ]
  },
  {
   "cell_type": "code",
   "execution_count": 33,
   "id": "d57310a1",
   "metadata": {},
   "outputs": [],
   "source": [
    "mode_list = [col for col, _type in df.select(median_mean_list).dtypes if _type == 'string']"
   ]
  },
  {
   "cell_type": "code",
   "execution_count": 34,
   "id": "9affc35c",
   "metadata": {},
   "outputs": [],
   "source": [
    "median_mean_list = [col for col in median_mean_list if col not in mode_list]"
   ]
  },
  {
   "cell_type": "code",
   "execution_count": 35,
   "id": "8d3a83a9",
   "metadata": {},
   "outputs": [],
   "source": [
    "from _missing_utils import fill_cat_with_mode"
   ]
  },
  {
   "cell_type": "code",
   "execution_count": 36,
   "id": "5cd8d674",
   "metadata": {},
   "outputs": [],
   "source": [
    "df = fill_cat_with_mode(df, mode_list)"
   ]
  },
  {
   "cell_type": "code",
   "execution_count": 37,
   "id": "468011a2",
   "metadata": {},
   "outputs": [
    {
     "name": "stdout",
     "output_type": "stream",
     "text": [
      "2023-04-10 00:19:41,877 - logging_utils - DEBUG - check_missing_values executing...\n"
     ]
    }
   ],
   "source": [
    "check_missing_values(df.select(mode_list))"
   ]
  },
  {
   "cell_type": "markdown",
   "id": "4abf7e0d",
   "metadata": {},
   "source": [
    "#### Integer Variables"
   ]
  },
  {
   "cell_type": "code",
   "execution_count": 38,
   "id": "e89db033",
   "metadata": {},
   "outputs": [],
   "source": [
    "from _missing_utils import fill_num_with_mode"
   ]
  },
  {
   "cell_type": "code",
   "execution_count": 39,
   "id": "c7b18dd2",
   "metadata": {},
   "outputs": [],
   "source": [
    "df  = fill_num_with_mode(df, columns=median_mean_list)"
   ]
  },
  {
   "cell_type": "code",
   "execution_count": 40,
   "id": "e6a6a142",
   "metadata": {},
   "outputs": [
    {
     "name": "stdout",
     "output_type": "stream",
     "text": [
      "2023-04-10 00:19:48,908 - logging_utils - DEBUG - check_missing_values executing...\n"
     ]
    }
   ],
   "source": [
    "check_missing_values(df.select(median_mean_list))"
   ]
  },
  {
   "cell_type": "markdown",
   "id": "10926bf7",
   "metadata": {},
   "source": [
    "### KNN Imputer"
   ]
  },
  {
   "cell_type": "code",
   "execution_count": 41,
   "id": "09dd3ee6",
   "metadata": {},
   "outputs": [],
   "source": [
    "from sklearn.impute import KNNImputer\n",
    "from sklearn.preprocessing import RobustScaler"
   ]
  },
  {
   "cell_type": "code",
   "execution_count": 42,
   "id": "efae5321",
   "metadata": {},
   "outputs": [],
   "source": [
    "knn_df = df.toPandas()"
   ]
  },
  {
   "cell_type": "code",
   "execution_count": 43,
   "id": "e7d800ca",
   "metadata": {},
   "outputs": [],
   "source": [
    "knn_df = knn_df[~knn_df['SalePrice'].isnull()]"
   ]
  },
  {
   "cell_type": "code",
   "execution_count": 44,
   "id": "d216a89d",
   "metadata": {},
   "outputs": [],
   "source": [
    "encoder = pd.get_dummies(knn_df, drop_first=True)"
   ]
  },
  {
   "cell_type": "code",
   "execution_count": 45,
   "id": "18dc4189",
   "metadata": {},
   "outputs": [],
   "source": [
    "scale = RobustScaler()\n",
    "scaler = pd.DataFrame(scale.fit_transform(encoder), columns=encoder.columns)"
   ]
  },
  {
   "cell_type": "code",
   "execution_count": 46,
   "id": "ffa4999e",
   "metadata": {},
   "outputs": [],
   "source": [
    "imputer = pd.DataFrame(KNNImputer(n_neighbors=5).fit_transform(scaler), columns=scaler.columns)"
   ]
  },
  {
   "cell_type": "code",
   "execution_count": 47,
   "id": "8cc36e7e",
   "metadata": {},
   "outputs": [],
   "source": [
    "final = pd.DataFrame(scale.inverse_transform(imputer), columns=imputer.columns)"
   ]
  },
  {
   "cell_type": "markdown",
   "id": "69167c78",
   "metadata": {},
   "source": [
    "#### Control"
   ]
  },
  {
   "cell_type": "code",
   "execution_count": 48,
   "id": "6c8fa28c",
   "metadata": {},
   "outputs": [],
   "source": [
    "from _eda_utils import get_null_summary"
   ]
  },
  {
   "cell_type": "code",
   "execution_count": 49,
   "id": "939c67d7",
   "metadata": {},
   "outputs": [
    {
     "name": "stdout",
     "output_type": "stream",
     "text": [
      "2023-04-10 00:20:09,691 - logging_utils - DEBUG - get_null_summary executing...\n",
      "2023-04-10 00:20:09,701 - logging_utils - INFO - \n",
      "                       null  not-null\n",
      "MSSubClass                0      1451\n",
      "LotFrontage               0      1451\n",
      "LotArea                   0      1451\n",
      "OverallQual               0      1451\n",
      "OverallCond               0      1451\n",
      "...                     ...       ...\n",
      "SaleCondition_AdjLand     0      1451\n",
      "SaleCondition_Alloca      0      1451\n",
      "SaleCondition_Family      0      1451\n",
      "SaleCondition_Normal      0      1451\n",
      "SaleCondition_Partial     0      1451\n",
      "\n",
      "[233 rows x 2 columns]\n"
     ]
    }
   ],
   "source": [
    "control = get_null_summary(final)"
   ]
  },
  {
   "cell_type": "code",
   "execution_count": 50,
   "id": "4e6247eb",
   "metadata": {},
   "outputs": [
    {
     "data": {
      "text/plain": [
       "0"
      ]
     },
     "execution_count": 50,
     "metadata": {},
     "output_type": "execute_result"
    }
   ],
   "source": [
    "control['null'].max()"
   ]
  },
  {
   "cell_type": "markdown",
   "id": "dc921df4",
   "metadata": {},
   "source": [
    "### Test Non-Missing"
   ]
  },
  {
   "cell_type": "code",
   "execution_count": 51,
   "id": "ba6232a7",
   "metadata": {},
   "outputs": [],
   "source": [
    "X = final.drop('SalePrice', axis=1)\n",
    "y = final[['SalePrice']]\n",
    "\n",
    "X_train, X_test, y_train, y_test = train_test_split(X, y, test_size=0.2, random_state=7)"
   ]
  },
  {
   "cell_type": "code",
   "execution_count": 52,
   "id": "cb65c6a8",
   "metadata": {},
   "outputs": [
    {
     "data": {
      "text/plain": [
       "0.656871453071109"
      ]
     },
     "execution_count": 52,
     "metadata": {},
     "output_type": "execute_result"
    }
   ],
   "source": [
    "reg_model = LinearRegression().fit(X_train, y_train)\n",
    "\n",
    "y_pred = reg_model.predict(X_train)\n",
    "\n",
    "reg_model.score(X_test, y_test) # R-square"
   ]
  },
  {
   "cell_type": "code",
   "execution_count": 53,
   "id": "25691997",
   "metadata": {},
   "outputs": [
    {
     "data": {
      "text/plain": [
       "False"
      ]
     },
     "execution_count": 53,
     "metadata": {},
     "output_type": "execute_result"
    }
   ],
   "source": [
    "len(knn_df.columns) == len(final.columns)"
   ]
  },
  {
   "cell_type": "code",
   "execution_count": 54,
   "id": "c7057f6a",
   "metadata": {},
   "outputs": [],
   "source": [
    "knn_df[numerical_cols] = final[numerical_cols]"
   ]
  },
  {
   "cell_type": "code",
   "execution_count": 55,
   "id": "9d96577a",
   "metadata": {},
   "outputs": [],
   "source": [
    "final = knn_df"
   ]
  },
  {
   "cell_type": "code",
   "execution_count": 61,
   "id": "56557c95",
   "metadata": {},
   "outputs": [
    {
     "data": {
      "text/plain": [
       "True"
      ]
     },
     "execution_count": 61,
     "metadata": {},
     "output_type": "execute_result"
    }
   ],
   "source": [
    "list(df.columns) == list(knn_df.columns)"
   ]
  },
  {
   "cell_type": "markdown",
   "id": "4e33f865",
   "metadata": {},
   "source": [
    "### Save"
   ]
  },
  {
   "cell_type": "code",
   "execution_count": 62,
   "id": "679ebcb8",
   "metadata": {},
   "outputs": [],
   "source": [
    "final.to_parquet(\"datasets/missing/non_missing.parquet\")"
   ]
  },
  {
   "cell_type": "markdown",
   "id": "9d068db0",
   "metadata": {},
   "source": [
    "### Conclusion\n",
    "\n",
    "<div class=\"alert alert-block alert-info\"> <b>Final:</b> After handle the missing values, accuracy increased <b>0.5709561893035657<b> to <b>0.656871453071109<b> </div>"
   ]
  },
  {
   "cell_type": "markdown",
   "id": "24b9c1ff",
   "metadata": {},
   "source": [
    "## Outliers"
   ]
  },
  {
   "cell_type": "code",
   "execution_count": 63,
   "id": "fe25efd3",
   "metadata": {},
   "outputs": [],
   "source": [
    "from _eda_utils import check_outlier_values, seperate_columns\n",
    "import warnings\n",
    "\n",
    "warnings.filterwarnings('ignore')"
   ]
  },
  {
   "cell_type": "code",
   "execution_count": 64,
   "id": "1c5987f0",
   "metadata": {},
   "outputs": [],
   "source": [
    "path = \"file:///Users/talha/OneDrive/Masaüstü/Talha Nebi Kumru/Data Science/Miuul/Machine Learning/House_Price_Prediction/datasets/missing/non_missing.parquet\"\n",
    "df = spark.read \\\n",
    "    .format(\"parquet\") \\\n",
    "    .option(\"header\", True) \\\n",
    "    .option(\"inferSchema\", True) \\\n",
    "    .load(path)"
   ]
  },
  {
   "cell_type": "code",
   "execution_count": 65,
   "id": "5d53c376",
   "metadata": {},
   "outputs": [
    {
     "data": {
      "text/html": [
       "<div>\n",
       "<style scoped>\n",
       "    .dataframe tbody tr th:only-of-type {\n",
       "        vertical-align: middle;\n",
       "    }\n",
       "\n",
       "    .dataframe tbody tr th {\n",
       "        vertical-align: top;\n",
       "    }\n",
       "\n",
       "    .dataframe thead th {\n",
       "        text-align: right;\n",
       "    }\n",
       "</style>\n",
       "<table border=\"1\" class=\"dataframe\">\n",
       "  <thead>\n",
       "    <tr style=\"text-align: right;\">\n",
       "      <th></th>\n",
       "      <th>MSSubClass</th>\n",
       "      <th>MSZoning</th>\n",
       "      <th>LotFrontage</th>\n",
       "      <th>LotArea</th>\n",
       "      <th>Street</th>\n",
       "      <th>LotShape</th>\n",
       "      <th>LandContour</th>\n",
       "      <th>Utilities</th>\n",
       "      <th>LotConfig</th>\n",
       "      <th>LandSlope</th>\n",
       "      <th>Neighborhood</th>\n",
       "      <th>Condition1</th>\n",
       "      <th>Condition2</th>\n",
       "      <th>BldgType</th>\n",
       "      <th>HouseStyle</th>\n",
       "      <th>OverallQual</th>\n",
       "      <th>OverallCond</th>\n",
       "      <th>YearBuilt</th>\n",
       "      <th>YearRemodAdd</th>\n",
       "      <th>RoofStyle</th>\n",
       "      <th>RoofMatl</th>\n",
       "      <th>Exterior1st</th>\n",
       "      <th>Exterior2nd</th>\n",
       "      <th>MasVnrType</th>\n",
       "      <th>MasVnrArea</th>\n",
       "      <th>ExterQual</th>\n",
       "      <th>ExterCond</th>\n",
       "      <th>Foundation</th>\n",
       "      <th>BsmtQual</th>\n",
       "      <th>BsmtCond</th>\n",
       "      <th>BsmtExposure</th>\n",
       "      <th>BsmtFinType1</th>\n",
       "      <th>BsmtFinSF1</th>\n",
       "      <th>BsmtFinType2</th>\n",
       "      <th>BsmtFinSF2</th>\n",
       "      <th>BsmtUnfSF</th>\n",
       "      <th>TotalBsmtSF</th>\n",
       "      <th>Heating</th>\n",
       "      <th>HeatingQC</th>\n",
       "      <th>CentralAir</th>\n",
       "      <th>Electrical</th>\n",
       "      <th>1stFlrSF</th>\n",
       "      <th>2ndFlrSF</th>\n",
       "      <th>LowQualFinSF</th>\n",
       "      <th>GrLivArea</th>\n",
       "      <th>BsmtFullBath</th>\n",
       "      <th>BsmtHalfBath</th>\n",
       "      <th>FullBath</th>\n",
       "      <th>HalfBath</th>\n",
       "      <th>BedroomAbvGr</th>\n",
       "      <th>KitchenAbvGr</th>\n",
       "      <th>KitchenQual</th>\n",
       "      <th>TotRmsAbvGrd</th>\n",
       "      <th>Functional</th>\n",
       "      <th>Fireplaces</th>\n",
       "      <th>GarageType</th>\n",
       "      <th>GarageYrBlt</th>\n",
       "      <th>GarageFinish</th>\n",
       "      <th>GarageCars</th>\n",
       "      <th>GarageArea</th>\n",
       "      <th>GarageQual</th>\n",
       "      <th>GarageCond</th>\n",
       "      <th>PavedDrive</th>\n",
       "      <th>WoodDeckSF</th>\n",
       "      <th>OpenPorchSF</th>\n",
       "      <th>EnclosedPorch</th>\n",
       "      <th>3SsnPorch</th>\n",
       "      <th>ScreenPorch</th>\n",
       "      <th>PoolArea</th>\n",
       "      <th>MiscVal</th>\n",
       "      <th>MoSold</th>\n",
       "      <th>YrSold</th>\n",
       "      <th>SaleType</th>\n",
       "      <th>SaleCondition</th>\n",
       "      <th>SalePrice</th>\n",
       "      <th>__index_level_0__</th>\n",
       "    </tr>\n",
       "  </thead>\n",
       "  <tbody>\n",
       "    <tr>\n",
       "      <th>0</th>\n",
       "      <td>60.0</td>\n",
       "      <td>RL</td>\n",
       "      <td>65.0</td>\n",
       "      <td>8450.0</td>\n",
       "      <td>Pave</td>\n",
       "      <td>Reg</td>\n",
       "      <td>Lvl</td>\n",
       "      <td>AllPub</td>\n",
       "      <td>Inside</td>\n",
       "      <td>Gtl</td>\n",
       "      <td>CollgCr</td>\n",
       "      <td>Norm</td>\n",
       "      <td>Norm</td>\n",
       "      <td>1Fam</td>\n",
       "      <td>2Story</td>\n",
       "      <td>7.0</td>\n",
       "      <td>5.0</td>\n",
       "      <td>2003.0</td>\n",
       "      <td>2003.0</td>\n",
       "      <td>Gable</td>\n",
       "      <td>CompShg</td>\n",
       "      <td>VinylSd</td>\n",
       "      <td>VinylSd</td>\n",
       "      <td>BrkFace</td>\n",
       "      <td>196.0</td>\n",
       "      <td>Gd</td>\n",
       "      <td>TA</td>\n",
       "      <td>PConc</td>\n",
       "      <td>Gd</td>\n",
       "      <td>TA</td>\n",
       "      <td>No</td>\n",
       "      <td>GLQ</td>\n",
       "      <td>706.0</td>\n",
       "      <td>Unf</td>\n",
       "      <td>0.0</td>\n",
       "      <td>150.0</td>\n",
       "      <td>856.0</td>\n",
       "      <td>GasA</td>\n",
       "      <td>Ex</td>\n",
       "      <td>Y</td>\n",
       "      <td>SBrkr</td>\n",
       "      <td>856.0</td>\n",
       "      <td>854.0</td>\n",
       "      <td>0.0</td>\n",
       "      <td>1710.0</td>\n",
       "      <td>1.0</td>\n",
       "      <td>0.0</td>\n",
       "      <td>2.0</td>\n",
       "      <td>1.0</td>\n",
       "      <td>3.0</td>\n",
       "      <td>1.0</td>\n",
       "      <td>Gd</td>\n",
       "      <td>8.0</td>\n",
       "      <td>Typ</td>\n",
       "      <td>0.0</td>\n",
       "      <td>Attchd</td>\n",
       "      <td>2003.0</td>\n",
       "      <td>RFn</td>\n",
       "      <td>2.0</td>\n",
       "      <td>548.0</td>\n",
       "      <td>TA</td>\n",
       "      <td>TA</td>\n",
       "      <td>Y</td>\n",
       "      <td>0.0</td>\n",
       "      <td>61.0</td>\n",
       "      <td>0.0</td>\n",
       "      <td>0.0</td>\n",
       "      <td>0.0</td>\n",
       "      <td>0.0</td>\n",
       "      <td>0.0</td>\n",
       "      <td>2.0</td>\n",
       "      <td>2008.0</td>\n",
       "      <td>WD</td>\n",
       "      <td>Normal</td>\n",
       "      <td>208500.0</td>\n",
       "      <td>0</td>\n",
       "    </tr>\n",
       "    <tr>\n",
       "      <th>1</th>\n",
       "      <td>20.0</td>\n",
       "      <td>RL</td>\n",
       "      <td>80.0</td>\n",
       "      <td>9600.0</td>\n",
       "      <td>Pave</td>\n",
       "      <td>Reg</td>\n",
       "      <td>Lvl</td>\n",
       "      <td>AllPub</td>\n",
       "      <td>FR2</td>\n",
       "      <td>Gtl</td>\n",
       "      <td>Veenker</td>\n",
       "      <td>Feedr</td>\n",
       "      <td>Norm</td>\n",
       "      <td>1Fam</td>\n",
       "      <td>1Story</td>\n",
       "      <td>6.0</td>\n",
       "      <td>8.0</td>\n",
       "      <td>1976.0</td>\n",
       "      <td>1976.0</td>\n",
       "      <td>Gable</td>\n",
       "      <td>CompShg</td>\n",
       "      <td>MetalSd</td>\n",
       "      <td>MetalSd</td>\n",
       "      <td>None</td>\n",
       "      <td>0.0</td>\n",
       "      <td>TA</td>\n",
       "      <td>TA</td>\n",
       "      <td>CBlock</td>\n",
       "      <td>Gd</td>\n",
       "      <td>TA</td>\n",
       "      <td>Gd</td>\n",
       "      <td>ALQ</td>\n",
       "      <td>978.0</td>\n",
       "      <td>Unf</td>\n",
       "      <td>0.0</td>\n",
       "      <td>284.0</td>\n",
       "      <td>1262.0</td>\n",
       "      <td>GasA</td>\n",
       "      <td>Ex</td>\n",
       "      <td>Y</td>\n",
       "      <td>SBrkr</td>\n",
       "      <td>1262.0</td>\n",
       "      <td>0.0</td>\n",
       "      <td>0.0</td>\n",
       "      <td>1262.0</td>\n",
       "      <td>0.0</td>\n",
       "      <td>1.0</td>\n",
       "      <td>2.0</td>\n",
       "      <td>0.0</td>\n",
       "      <td>3.0</td>\n",
       "      <td>1.0</td>\n",
       "      <td>TA</td>\n",
       "      <td>6.0</td>\n",
       "      <td>Typ</td>\n",
       "      <td>1.0</td>\n",
       "      <td>Attchd</td>\n",
       "      <td>1976.0</td>\n",
       "      <td>RFn</td>\n",
       "      <td>2.0</td>\n",
       "      <td>460.0</td>\n",
       "      <td>TA</td>\n",
       "      <td>TA</td>\n",
       "      <td>Y</td>\n",
       "      <td>298.0</td>\n",
       "      <td>0.0</td>\n",
       "      <td>0.0</td>\n",
       "      <td>0.0</td>\n",
       "      <td>0.0</td>\n",
       "      <td>0.0</td>\n",
       "      <td>0.0</td>\n",
       "      <td>5.0</td>\n",
       "      <td>2007.0</td>\n",
       "      <td>WD</td>\n",
       "      <td>Normal</td>\n",
       "      <td>181500.0</td>\n",
       "      <td>1</td>\n",
       "    </tr>\n",
       "    <tr>\n",
       "      <th>2</th>\n",
       "      <td>60.0</td>\n",
       "      <td>RL</td>\n",
       "      <td>68.0</td>\n",
       "      <td>11250.0</td>\n",
       "      <td>Pave</td>\n",
       "      <td>IR1</td>\n",
       "      <td>Lvl</td>\n",
       "      <td>AllPub</td>\n",
       "      <td>Inside</td>\n",
       "      <td>Gtl</td>\n",
       "      <td>CollgCr</td>\n",
       "      <td>Norm</td>\n",
       "      <td>Norm</td>\n",
       "      <td>1Fam</td>\n",
       "      <td>2Story</td>\n",
       "      <td>7.0</td>\n",
       "      <td>5.0</td>\n",
       "      <td>2001.0</td>\n",
       "      <td>2002.0</td>\n",
       "      <td>Gable</td>\n",
       "      <td>CompShg</td>\n",
       "      <td>VinylSd</td>\n",
       "      <td>VinylSd</td>\n",
       "      <td>BrkFace</td>\n",
       "      <td>162.0</td>\n",
       "      <td>Gd</td>\n",
       "      <td>TA</td>\n",
       "      <td>PConc</td>\n",
       "      <td>Gd</td>\n",
       "      <td>TA</td>\n",
       "      <td>Mn</td>\n",
       "      <td>GLQ</td>\n",
       "      <td>486.0</td>\n",
       "      <td>Unf</td>\n",
       "      <td>0.0</td>\n",
       "      <td>434.0</td>\n",
       "      <td>920.0</td>\n",
       "      <td>GasA</td>\n",
       "      <td>Ex</td>\n",
       "      <td>Y</td>\n",
       "      <td>SBrkr</td>\n",
       "      <td>920.0</td>\n",
       "      <td>866.0</td>\n",
       "      <td>0.0</td>\n",
       "      <td>1786.0</td>\n",
       "      <td>1.0</td>\n",
       "      <td>0.0</td>\n",
       "      <td>2.0</td>\n",
       "      <td>1.0</td>\n",
       "      <td>3.0</td>\n",
       "      <td>1.0</td>\n",
       "      <td>Gd</td>\n",
       "      <td>6.0</td>\n",
       "      <td>Typ</td>\n",
       "      <td>1.0</td>\n",
       "      <td>Attchd</td>\n",
       "      <td>2001.0</td>\n",
       "      <td>RFn</td>\n",
       "      <td>2.0</td>\n",
       "      <td>608.0</td>\n",
       "      <td>TA</td>\n",
       "      <td>TA</td>\n",
       "      <td>Y</td>\n",
       "      <td>0.0</td>\n",
       "      <td>42.0</td>\n",
       "      <td>0.0</td>\n",
       "      <td>0.0</td>\n",
       "      <td>0.0</td>\n",
       "      <td>0.0</td>\n",
       "      <td>0.0</td>\n",
       "      <td>9.0</td>\n",
       "      <td>2008.0</td>\n",
       "      <td>WD</td>\n",
       "      <td>Normal</td>\n",
       "      <td>223500.0</td>\n",
       "      <td>2</td>\n",
       "    </tr>\n",
       "    <tr>\n",
       "      <th>3</th>\n",
       "      <td>70.0</td>\n",
       "      <td>RL</td>\n",
       "      <td>60.0</td>\n",
       "      <td>9550.0</td>\n",
       "      <td>Pave</td>\n",
       "      <td>IR1</td>\n",
       "      <td>Lvl</td>\n",
       "      <td>AllPub</td>\n",
       "      <td>Corner</td>\n",
       "      <td>Gtl</td>\n",
       "      <td>Crawfor</td>\n",
       "      <td>Norm</td>\n",
       "      <td>Norm</td>\n",
       "      <td>1Fam</td>\n",
       "      <td>2Story</td>\n",
       "      <td>7.0</td>\n",
       "      <td>5.0</td>\n",
       "      <td>1915.0</td>\n",
       "      <td>1970.0</td>\n",
       "      <td>Gable</td>\n",
       "      <td>CompShg</td>\n",
       "      <td>Wd Sdng</td>\n",
       "      <td>Wd Shng</td>\n",
       "      <td>None</td>\n",
       "      <td>0.0</td>\n",
       "      <td>TA</td>\n",
       "      <td>TA</td>\n",
       "      <td>BrkTil</td>\n",
       "      <td>TA</td>\n",
       "      <td>Gd</td>\n",
       "      <td>No</td>\n",
       "      <td>ALQ</td>\n",
       "      <td>216.0</td>\n",
       "      <td>Unf</td>\n",
       "      <td>0.0</td>\n",
       "      <td>540.0</td>\n",
       "      <td>756.0</td>\n",
       "      <td>GasA</td>\n",
       "      <td>Gd</td>\n",
       "      <td>Y</td>\n",
       "      <td>SBrkr</td>\n",
       "      <td>961.0</td>\n",
       "      <td>756.0</td>\n",
       "      <td>0.0</td>\n",
       "      <td>1717.0</td>\n",
       "      <td>1.0</td>\n",
       "      <td>0.0</td>\n",
       "      <td>1.0</td>\n",
       "      <td>0.0</td>\n",
       "      <td>3.0</td>\n",
       "      <td>1.0</td>\n",
       "      <td>Gd</td>\n",
       "      <td>7.0</td>\n",
       "      <td>Typ</td>\n",
       "      <td>1.0</td>\n",
       "      <td>Detchd</td>\n",
       "      <td>1998.0</td>\n",
       "      <td>Unf</td>\n",
       "      <td>3.0</td>\n",
       "      <td>642.0</td>\n",
       "      <td>TA</td>\n",
       "      <td>TA</td>\n",
       "      <td>Y</td>\n",
       "      <td>0.0</td>\n",
       "      <td>35.0</td>\n",
       "      <td>272.0</td>\n",
       "      <td>0.0</td>\n",
       "      <td>0.0</td>\n",
       "      <td>0.0</td>\n",
       "      <td>0.0</td>\n",
       "      <td>2.0</td>\n",
       "      <td>2006.0</td>\n",
       "      <td>WD</td>\n",
       "      <td>Abnorml</td>\n",
       "      <td>140000.0</td>\n",
       "      <td>3</td>\n",
       "    </tr>\n",
       "    <tr>\n",
       "      <th>4</th>\n",
       "      <td>60.0</td>\n",
       "      <td>RL</td>\n",
       "      <td>84.0</td>\n",
       "      <td>14260.0</td>\n",
       "      <td>Pave</td>\n",
       "      <td>IR1</td>\n",
       "      <td>Lvl</td>\n",
       "      <td>AllPub</td>\n",
       "      <td>FR2</td>\n",
       "      <td>Gtl</td>\n",
       "      <td>NoRidge</td>\n",
       "      <td>Norm</td>\n",
       "      <td>Norm</td>\n",
       "      <td>1Fam</td>\n",
       "      <td>2Story</td>\n",
       "      <td>8.0</td>\n",
       "      <td>5.0</td>\n",
       "      <td>2000.0</td>\n",
       "      <td>2000.0</td>\n",
       "      <td>Gable</td>\n",
       "      <td>CompShg</td>\n",
       "      <td>VinylSd</td>\n",
       "      <td>VinylSd</td>\n",
       "      <td>BrkFace</td>\n",
       "      <td>350.0</td>\n",
       "      <td>Gd</td>\n",
       "      <td>TA</td>\n",
       "      <td>PConc</td>\n",
       "      <td>Gd</td>\n",
       "      <td>TA</td>\n",
       "      <td>Av</td>\n",
       "      <td>GLQ</td>\n",
       "      <td>655.0</td>\n",
       "      <td>Unf</td>\n",
       "      <td>0.0</td>\n",
       "      <td>490.0</td>\n",
       "      <td>1145.0</td>\n",
       "      <td>GasA</td>\n",
       "      <td>Ex</td>\n",
       "      <td>Y</td>\n",
       "      <td>SBrkr</td>\n",
       "      <td>1145.0</td>\n",
       "      <td>1053.0</td>\n",
       "      <td>0.0</td>\n",
       "      <td>2198.0</td>\n",
       "      <td>1.0</td>\n",
       "      <td>0.0</td>\n",
       "      <td>2.0</td>\n",
       "      <td>1.0</td>\n",
       "      <td>4.0</td>\n",
       "      <td>1.0</td>\n",
       "      <td>Gd</td>\n",
       "      <td>9.0</td>\n",
       "      <td>Typ</td>\n",
       "      <td>1.0</td>\n",
       "      <td>Attchd</td>\n",
       "      <td>2000.0</td>\n",
       "      <td>RFn</td>\n",
       "      <td>3.0</td>\n",
       "      <td>836.0</td>\n",
       "      <td>TA</td>\n",
       "      <td>TA</td>\n",
       "      <td>Y</td>\n",
       "      <td>192.0</td>\n",
       "      <td>84.0</td>\n",
       "      <td>0.0</td>\n",
       "      <td>0.0</td>\n",
       "      <td>0.0</td>\n",
       "      <td>0.0</td>\n",
       "      <td>0.0</td>\n",
       "      <td>12.0</td>\n",
       "      <td>2008.0</td>\n",
       "      <td>WD</td>\n",
       "      <td>Normal</td>\n",
       "      <td>250000.0</td>\n",
       "      <td>4</td>\n",
       "    </tr>\n",
       "  </tbody>\n",
       "</table>\n",
       "</div>"
      ],
      "text/plain": [
       "   MSSubClass MSZoning  LotFrontage  ...  SaleCondition SalePrice __index_level_0__\n",
       "0        60.0       RL         65.0  ...         Normal  208500.0                 0\n",
       "1        20.0       RL         80.0  ...         Normal  181500.0                 1\n",
       "2        60.0       RL         68.0  ...         Normal  223500.0                 2\n",
       "3        70.0       RL         60.0  ...        Abnorml  140000.0                 3\n",
       "4        60.0       RL         84.0  ...         Normal  250000.0                 4\n",
       "\n",
       "[5 rows x 76 columns]"
      ]
     },
     "execution_count": 65,
     "metadata": {},
     "output_type": "execute_result"
    }
   ],
   "source": [
    "df.limit(5).toPandas()"
   ]
  },
  {
   "cell_type": "code",
   "execution_count": 66,
   "id": "d174bb8d",
   "metadata": {},
   "outputs": [],
   "source": [
    "df = df.drop(df.columns[-1])"
   ]
  },
  {
   "cell_type": "code",
   "execution_count": 67,
   "id": "22fc616b",
   "metadata": {},
   "outputs": [
    {
     "name": "stdout",
     "output_type": "stream",
     "text": [
      "2023-04-10 00:23:22,323 - logging_utils - DEBUG - seperate_columns function executing...\n",
      "2023-04-10 00:23:22,324 - logging_utils - INFO - \n",
      "Numerical Columns: ['MSSubClass', 'MoSold', 'ScreenPorch', 'LotArea', 'GarageArea', 'OverallCond', 'HalfBath', '2ndFlrSF', 'EnclosedPorch', 'MiscVal', 'MasVnrArea', 'PoolArea', 'YrSold', 'Fireplaces', 'OverallQual', 'WoodDeckSF', 'LowQualFinSF', 'BedroomAbvGr', 'YearBuilt', 'BsmtFullBath', 'GarageCars', 'BsmtUnfSF', 'OpenPorchSF', 'LotFrontage', 'BsmtHalfBath', 'GrLivArea', 'KitchenAbvGr', 'TotRmsAbvGrd', 'YearRemodAdd', 'GarageYrBlt', 'SalePrice', '1stFlrSF', '3SsnPorch', 'BsmtFinSF1', 'BsmtFinSF2', 'FullBath', 'TotalBsmtSF']\n",
      "2023-04-10 00:23:22,325 - logging_utils - INFO - \n",
      "Categorical Columns: ['MSZoning', 'Street', 'LotShape', 'LandContour', 'Utilities', 'LotConfig', 'LandSlope', 'Neighborhood', 'Condition1', 'Condition2', 'BldgType', 'HouseStyle', 'RoofStyle', 'RoofMatl', 'Exterior1st', 'Exterior2nd', 'MasVnrType', 'ExterQual', 'ExterCond', 'Foundation', 'BsmtQual', 'BsmtCond', 'BsmtExposure', 'BsmtFinType1', 'BsmtFinType2', 'Heating', 'HeatingQC', 'CentralAir', 'Electrical', 'KitchenQual', 'Functional', 'GarageType', 'GarageFinish', 'GarageQual', 'GarageCond', 'PavedDrive', 'SaleType', 'SaleCondition']\n"
     ]
    }
   ],
   "source": [
    "numerical_cols, categorical_cols = seperate_columns(spark, df.dtypes)"
   ]
  },
  {
   "cell_type": "code",
   "execution_count": 68,
   "id": "0f15cac6",
   "metadata": {},
   "outputs": [
    {
     "name": "stdout",
     "output_type": "stream",
     "text": [
      "2023-04-10 00:23:24,462 - logging_utils - DEBUG - check_outlier_values executing...\n",
      "2023-04-10 00:23:24,717 - logging_utils - INFO - LotArea has 4 - %  0.28 outliers count.\n",
      "2023-04-10 00:23:25,084 - logging_utils - INFO - MiscVal has 8 - %  0.55 outliers count.\n",
      "2023-04-10 00:23:25,211 - logging_utils - INFO - PoolArea has 7 - %  0.48 outliers count.\n",
      "2023-04-10 00:23:26,387 - logging_utils - INFO - 3SsnPorch has 1 - %  0.07 outliers count.\n",
      "2023-04-10 00:23:26,441 - logging_utils - INFO - BsmtFinSF1 has 1 - %  0.07 outliers count.\n",
      "2023-04-10 00:23:26,584 - logging_utils - INFO - TotalBsmtSF has 1 - %  0.07 outliers count.\n"
     ]
    }
   ],
   "source": [
    "outliers = check_outlier_values(df, numerical_cols)"
   ]
  },
  {
   "cell_type": "markdown",
   "id": "5883a6cb",
   "metadata": {},
   "source": [
    "Outliers are under the **%1**. This means we can replace outliers with up limit and low limit threshold. I use up limit threshold as *%99* and low limit threshold as *%1*."
   ]
  },
  {
   "cell_type": "markdown",
   "id": "6b65f153",
   "metadata": {},
   "source": [
    "### Replace Outliers with Columns Thresholds"
   ]
  },
  {
   "cell_type": "code",
   "execution_count": 69,
   "id": "f9a21d9c",
   "metadata": {},
   "outputs": [
    {
     "name": "stdout",
     "output_type": "stream",
     "text": [
      "{'column_name': 'LotArea', 'outlier_count': 4, 'up_limit': 91985.0, 'low_limit': -52503.0, 'ratio': 0.2756719503790489}\n",
      "{'column_name': 'MiscVal', 'outlier_count': 8, 'up_limit': 1750.0, 'low_limit': -1050.0, 'ratio': 0.5513439007580978}\n",
      "{'column_name': 'PoolArea', 'outlier_count': 7, 'up_limit': 0.0, 'low_limit': 0.0, 'ratio': 0.4824259131633356}\n",
      "{'column_name': '3SsnPorch', 'outlier_count': 1, 'up_limit': 420.0, 'low_limit': -252.0, 'ratio': 0.06891798759476223}\n",
      "{'column_name': 'BsmtFinSF1', 'outlier_count': 1, 'up_limit': 3931.25, 'low_limit': -2358.75, 'ratio': 0.06891798759476223}\n",
      "{'column_name': 'TotalBsmtSF', 'outlier_count': 1, 'up_limit': 5388.75, 'low_limit': -3233.25, 'ratio': 0.06891798759476223}\n"
     ]
    }
   ],
   "source": [
    "for out in outliers:\n",
    "    print(outliers.get(out))"
   ]
  },
  {
   "cell_type": "code",
   "execution_count": 70,
   "id": "cefac08a",
   "metadata": {},
   "outputs": [],
   "source": [
    "from _outliers_utils import replace_with_thresholds"
   ]
  },
  {
   "cell_type": "code",
   "execution_count": 71,
   "id": "966e806b",
   "metadata": {},
   "outputs": [],
   "source": [
    "for out in outliers:\n",
    "    col_variable = outliers[out]\n",
    "    df = replace_with_thresholds(df=df, col=col_variable['column_name'],\n",
    "                                up_threshold=col_variable['up_limit'],\n",
    "                                low_threshold=col_variable['low_limit'])"
   ]
  },
  {
   "cell_type": "code",
   "execution_count": 72,
   "id": "be00a7bf",
   "metadata": {},
   "outputs": [
    {
     "name": "stdout",
     "output_type": "stream",
     "text": [
      "2023-04-10 00:23:33,703 - logging_utils - DEBUG - check_outlier_values executing...\n"
     ]
    },
    {
     "data": {
      "text/plain": [
       "{}"
      ]
     },
     "execution_count": 72,
     "metadata": {},
     "output_type": "execute_result"
    }
   ],
   "source": [
    "check_outlier_values(df, numerical_cols)"
   ]
  },
  {
   "cell_type": "markdown",
   "id": "2da61f95",
   "metadata": {},
   "source": [
    "### Test Outliers"
   ]
  },
  {
   "cell_type": "code",
   "execution_count": 73,
   "id": "dc169b81",
   "metadata": {},
   "outputs": [],
   "source": [
    "outlier_df = df.toPandas()\n",
    "outlier_df = pd.get_dummies(outlier_df, drop_first=True)"
   ]
  },
  {
   "cell_type": "code",
   "execution_count": 74,
   "id": "790b3f22",
   "metadata": {},
   "outputs": [],
   "source": [
    "X = outlier_df.drop('SalePrice', axis=1)\n",
    "y = outlier_df[['SalePrice']]\n",
    "\n",
    "X_train, X_test, y_train, y_test = train_test_split(X, y, test_size=0.2, random_state=7)"
   ]
  },
  {
   "cell_type": "code",
   "execution_count": 75,
   "id": "e1669967",
   "metadata": {},
   "outputs": [
    {
     "data": {
      "text/plain": [
       "0.6888786856405607"
      ]
     },
     "execution_count": 75,
     "metadata": {},
     "output_type": "execute_result"
    }
   ],
   "source": [
    "reg_model = LinearRegression().fit(X_train, y_train)\n",
    "\n",
    "y_pred = reg_model.predict(X_train)\n",
    "\n",
    "reg_model.score(X_test, y_test) # R-square"
   ]
  },
  {
   "cell_type": "code",
   "execution_count": 84,
   "id": "fe9500c5",
   "metadata": {},
   "outputs": [],
   "source": [
    "df = df.toPandas()"
   ]
  },
  {
   "cell_type": "code",
   "execution_count": 85,
   "id": "f38d5ad2",
   "metadata": {},
   "outputs": [],
   "source": [
    "df[numerical_cols] = outlier_df[numerical_cols]"
   ]
  },
  {
   "cell_type": "markdown",
   "id": "af640193",
   "metadata": {},
   "source": [
    "### Local Outliers"
   ]
  },
  {
   "cell_type": "code",
   "execution_count": 86,
   "id": "34149848",
   "metadata": {},
   "outputs": [],
   "source": [
    "from sklearn.neighbors import LocalOutlierFactor"
   ]
  },
  {
   "cell_type": "markdown",
   "id": "cda942a5",
   "metadata": {},
   "source": [
    "#### Preparation"
   ]
  },
  {
   "cell_type": "code",
   "execution_count": 87,
   "id": "5f33e2b2",
   "metadata": {},
   "outputs": [],
   "source": [
    "numerical_cols = [col for col in numerical_cols if col != 'SalePrice']"
   ]
  },
  {
   "cell_type": "code",
   "execution_count": 88,
   "id": "68479d71",
   "metadata": {},
   "outputs": [],
   "source": [
    "local_df = df"
   ]
  },
  {
   "cell_type": "code",
   "execution_count": 89,
   "id": "bdc68d49",
   "metadata": {},
   "outputs": [
    {
     "data": {
      "text/plain": [
       "14.51"
      ]
     },
     "execution_count": 89,
     "metadata": {},
     "output_type": "execute_result"
    }
   ],
   "source": [
    "local_df.shape[0] * 1 / 100"
   ]
  },
  {
   "cell_type": "markdown",
   "id": "742d9e68",
   "metadata": {},
   "source": [
    "#### Create Model"
   ]
  },
  {
   "cell_type": "code",
   "execution_count": 90,
   "id": "27c5b9a6",
   "metadata": {},
   "outputs": [],
   "source": [
    "clf = LocalOutlierFactor(n_neighbors=15)"
   ]
  },
  {
   "cell_type": "code",
   "execution_count": 91,
   "id": "72c7978f",
   "metadata": {},
   "outputs": [
    {
     "data": {
      "text/plain": [
       "array([ 1,  1,  1, ..., -1,  1,  1])"
      ]
     },
     "execution_count": 91,
     "metadata": {},
     "output_type": "execute_result"
    }
   ],
   "source": [
    "clf.fit_predict(local_df[numerical_cols])"
   ]
  },
  {
   "cell_type": "code",
   "execution_count": 92,
   "id": "7ab92fcf",
   "metadata": {},
   "outputs": [],
   "source": [
    "scores = clf.negative_outlier_factor_"
   ]
  },
  {
   "cell_type": "code",
   "execution_count": 93,
   "id": "6de71b9d",
   "metadata": {},
   "outputs": [],
   "source": [
    "import numpy as np"
   ]
  },
  {
   "cell_type": "code",
   "execution_count": 94,
   "id": "ddef6192",
   "metadata": {},
   "outputs": [],
   "source": [
    "plot_scores = pd.DataFrame(np.sort(scores))"
   ]
  },
  {
   "cell_type": "code",
   "execution_count": 95,
   "id": "ac805150",
   "metadata": {},
   "outputs": [
    {
     "data": {
      "image/png": "[encoded data removed]",
      "text/plain": [
       "<Figure size 1080x720 with 1 Axes>"
      ]
     },
     "metadata": {},
     "output_type": "display_data"
    }
   ],
   "source": [
    "# %matplotlib qt\n",
    "%matplotlib inline\n",
    "plot_scores.plot(stacked=True, xlim=[0, 50], style='.-', figsize=(15, 10))\n",
    "plt.show()"
   ]
  },
  {
   "cell_type": "code",
   "execution_count": 96,
   "id": "c53e114b",
   "metadata": {},
   "outputs": [],
   "source": [
    "threshold = np.sort(scores)[5]"
   ]
  },
  {
   "cell_type": "code",
   "execution_count": 97,
   "id": "3fca86f1",
   "metadata": {},
   "outputs": [
    {
     "data": {
      "text/html": [
       "<div>\n",
       "<style scoped>\n",
       "    .dataframe tbody tr th:only-of-type {\n",
       "        vertical-align: middle;\n",
       "    }\n",
       "\n",
       "    .dataframe tbody tr th {\n",
       "        vertical-align: top;\n",
       "    }\n",
       "\n",
       "    .dataframe thead th {\n",
       "        text-align: right;\n",
       "    }\n",
       "</style>\n",
       "<table border=\"1\" class=\"dataframe\">\n",
       "  <thead>\n",
       "    <tr style=\"text-align: right;\">\n",
       "      <th></th>\n",
       "      <th>MSSubClass</th>\n",
       "      <th>MoSold</th>\n",
       "      <th>ScreenPorch</th>\n",
       "      <th>LotArea</th>\n",
       "      <th>GarageArea</th>\n",
       "      <th>OverallCond</th>\n",
       "      <th>HalfBath</th>\n",
       "      <th>2ndFlrSF</th>\n",
       "      <th>EnclosedPorch</th>\n",
       "      <th>MiscVal</th>\n",
       "      <th>MasVnrArea</th>\n",
       "      <th>PoolArea</th>\n",
       "      <th>YrSold</th>\n",
       "      <th>Fireplaces</th>\n",
       "      <th>OverallQual</th>\n",
       "      <th>WoodDeckSF</th>\n",
       "      <th>LowQualFinSF</th>\n",
       "      <th>BedroomAbvGr</th>\n",
       "      <th>YearBuilt</th>\n",
       "      <th>BsmtFullBath</th>\n",
       "      <th>GarageCars</th>\n",
       "      <th>BsmtUnfSF</th>\n",
       "      <th>OpenPorchSF</th>\n",
       "      <th>LotFrontage</th>\n",
       "      <th>BsmtHalfBath</th>\n",
       "      <th>GrLivArea</th>\n",
       "      <th>KitchenAbvGr</th>\n",
       "      <th>TotRmsAbvGrd</th>\n",
       "      <th>YearRemodAdd</th>\n",
       "      <th>GarageYrBlt</th>\n",
       "      <th>1stFlrSF</th>\n",
       "      <th>3SsnPorch</th>\n",
       "      <th>BsmtFinSF1</th>\n",
       "      <th>BsmtFinSF2</th>\n",
       "      <th>FullBath</th>\n",
       "      <th>TotalBsmtSF</th>\n",
       "    </tr>\n",
       "  </thead>\n",
       "  <tbody>\n",
       "    <tr>\n",
       "      <th>312</th>\n",
       "      <td>20.0</td>\n",
       "      <td>6.0</td>\n",
       "      <td>0.0</td>\n",
       "      <td>91985.0</td>\n",
       "      <td>513.0</td>\n",
       "      <td>5.0</td>\n",
       "      <td>0.0</td>\n",
       "      <td>0.0</td>\n",
       "      <td>0.0</td>\n",
       "      <td>0.0</td>\n",
       "      <td>0.0</td>\n",
       "      <td>0.0</td>\n",
       "      <td>2009.0</td>\n",
       "      <td>2.0</td>\n",
       "      <td>7.0</td>\n",
       "      <td>0.0</td>\n",
       "      <td>0.0</td>\n",
       "      <td>3.0</td>\n",
       "      <td>1965.0</td>\n",
       "      <td>2.0</td>\n",
       "      <td>2.0</td>\n",
       "      <td>8.000000e+01</td>\n",
       "      <td>0.0</td>\n",
       "      <td>150.0</td>\n",
       "      <td>0.0</td>\n",
       "      <td>2036.0</td>\n",
       "      <td>1.0</td>\n",
       "      <td>8.0</td>\n",
       "      <td>1965.0</td>\n",
       "      <td>1965.0</td>\n",
       "      <td>2036.0</td>\n",
       "      <td>0.0</td>\n",
       "      <td>1.236000e+03</td>\n",
       "      <td>820.0</td>\n",
       "      <td>2.0</td>\n",
       "      <td>2136.0</td>\n",
       "    </tr>\n",
       "    <tr>\n",
       "      <th>334</th>\n",
       "      <td>190.0</td>\n",
       "      <td>8.0</td>\n",
       "      <td>0.0</td>\n",
       "      <td>91985.0</td>\n",
       "      <td>529.0</td>\n",
       "      <td>6.0</td>\n",
       "      <td>0.0</td>\n",
       "      <td>167.0</td>\n",
       "      <td>0.0</td>\n",
       "      <td>700.0</td>\n",
       "      <td>0.0</td>\n",
       "      <td>0.0</td>\n",
       "      <td>2008.0</td>\n",
       "      <td>2.0</td>\n",
       "      <td>5.0</td>\n",
       "      <td>670.0</td>\n",
       "      <td>0.0</td>\n",
       "      <td>3.0</td>\n",
       "      <td>1965.0</td>\n",
       "      <td>2.0</td>\n",
       "      <td>2.0</td>\n",
       "      <td>1.030000e+02</td>\n",
       "      <td>0.0</td>\n",
       "      <td>78.6</td>\n",
       "      <td>0.0</td>\n",
       "      <td>1786.0</td>\n",
       "      <td>1.0</td>\n",
       "      <td>7.0</td>\n",
       "      <td>1965.0</td>\n",
       "      <td>1965.0</td>\n",
       "      <td>1619.0</td>\n",
       "      <td>0.0</td>\n",
       "      <td>1.249000e+03</td>\n",
       "      <td>147.0</td>\n",
       "      <td>2.0</td>\n",
       "      <td>1499.0</td>\n",
       "    </tr>\n",
       "    <tr>\n",
       "      <th>702</th>\n",
       "      <td>190.0</td>\n",
       "      <td>7.0</td>\n",
       "      <td>0.0</td>\n",
       "      <td>5600.0</td>\n",
       "      <td>0.0</td>\n",
       "      <td>5.0</td>\n",
       "      <td>0.0</td>\n",
       "      <td>720.0</td>\n",
       "      <td>0.0</td>\n",
       "      <td>1750.0</td>\n",
       "      <td>0.0</td>\n",
       "      <td>0.0</td>\n",
       "      <td>2010.0</td>\n",
       "      <td>0.0</td>\n",
       "      <td>4.0</td>\n",
       "      <td>0.0</td>\n",
       "      <td>0.0</td>\n",
       "      <td>3.0</td>\n",
       "      <td>1930.0</td>\n",
       "      <td>0.0</td>\n",
       "      <td>0.0</td>\n",
       "      <td>5.684342e-14</td>\n",
       "      <td>0.0</td>\n",
       "      <td>70.0</td>\n",
       "      <td>0.0</td>\n",
       "      <td>1092.0</td>\n",
       "      <td>2.0</td>\n",
       "      <td>7.0</td>\n",
       "      <td>1950.0</td>\n",
       "      <td>1979.0</td>\n",
       "      <td>372.0</td>\n",
       "      <td>0.0</td>\n",
       "      <td>5.684342e-14</td>\n",
       "      <td>0.0</td>\n",
       "      <td>2.0</td>\n",
       "      <td>0.0</td>\n",
       "    </tr>\n",
       "    <tr>\n",
       "      <th>887</th>\n",
       "      <td>50.0</td>\n",
       "      <td>7.0</td>\n",
       "      <td>0.0</td>\n",
       "      <td>8064.0</td>\n",
       "      <td>576.0</td>\n",
       "      <td>7.0</td>\n",
       "      <td>0.0</td>\n",
       "      <td>252.0</td>\n",
       "      <td>0.0</td>\n",
       "      <td>1750.0</td>\n",
       "      <td>0.0</td>\n",
       "      <td>0.0</td>\n",
       "      <td>2007.0</td>\n",
       "      <td>1.0</td>\n",
       "      <td>5.0</td>\n",
       "      <td>0.0</td>\n",
       "      <td>0.0</td>\n",
       "      <td>3.0</td>\n",
       "      <td>1949.0</td>\n",
       "      <td>0.0</td>\n",
       "      <td>2.0</td>\n",
       "      <td>6.720000e+02</td>\n",
       "      <td>0.0</td>\n",
       "      <td>60.0</td>\n",
       "      <td>0.0</td>\n",
       "      <td>924.0</td>\n",
       "      <td>1.0</td>\n",
       "      <td>6.0</td>\n",
       "      <td>2006.0</td>\n",
       "      <td>2003.0</td>\n",
       "      <td>672.0</td>\n",
       "      <td>0.0</td>\n",
       "      <td>5.684342e-14</td>\n",
       "      <td>0.0</td>\n",
       "      <td>1.0</td>\n",
       "      <td>672.0</td>\n",
       "    </tr>\n",
       "    <tr>\n",
       "      <th>1448</th>\n",
       "      <td>70.0</td>\n",
       "      <td>5.0</td>\n",
       "      <td>0.0</td>\n",
       "      <td>9042.0</td>\n",
       "      <td>252.0</td>\n",
       "      <td>9.0</td>\n",
       "      <td>0.0</td>\n",
       "      <td>1152.0</td>\n",
       "      <td>0.0</td>\n",
       "      <td>1750.0</td>\n",
       "      <td>0.0</td>\n",
       "      <td>0.0</td>\n",
       "      <td>2010.0</td>\n",
       "      <td>2.0</td>\n",
       "      <td>7.0</td>\n",
       "      <td>0.0</td>\n",
       "      <td>0.0</td>\n",
       "      <td>4.0</td>\n",
       "      <td>1941.0</td>\n",
       "      <td>0.0</td>\n",
       "      <td>1.0</td>\n",
       "      <td>8.770000e+02</td>\n",
       "      <td>60.0</td>\n",
       "      <td>66.0</td>\n",
       "      <td>0.0</td>\n",
       "      <td>2340.0</td>\n",
       "      <td>1.0</td>\n",
       "      <td>9.0</td>\n",
       "      <td>2006.0</td>\n",
       "      <td>1941.0</td>\n",
       "      <td>1188.0</td>\n",
       "      <td>0.0</td>\n",
       "      <td>2.750000e+02</td>\n",
       "      <td>0.0</td>\n",
       "      <td>2.0</td>\n",
       "      <td>1152.0</td>\n",
       "    </tr>\n",
       "  </tbody>\n",
       "</table>\n",
       "</div>"
      ],
      "text/plain": [
       "      MSSubClass  MoSold  ScreenPorch  ...  BsmtFinSF2  FullBath  TotalBsmtSF\n",
       "312         20.0     6.0          0.0  ...       820.0       2.0       2136.0\n",
       "334        190.0     8.0          0.0  ...       147.0       2.0       1499.0\n",
       "702        190.0     7.0          0.0  ...         0.0       2.0          0.0\n",
       "887         50.0     7.0          0.0  ...         0.0       1.0        672.0\n",
       "1448        70.0     5.0          0.0  ...         0.0       2.0       1152.0\n",
       "\n",
       "[5 rows x 36 columns]"
      ]
     },
     "execution_count": 97,
     "metadata": {},
     "output_type": "execute_result"
    }
   ],
   "source": [
    "local_df[(scores < threshold)][numerical_cols]"
   ]
  },
  {
   "cell_type": "code",
   "execution_count": 98,
   "id": "fdefcc73",
   "metadata": {},
   "outputs": [],
   "source": [
    "non_local_outliers = local_df[~(scores < threshold)]"
   ]
  },
  {
   "cell_type": "code",
   "execution_count": 101,
   "id": "e151ecc2",
   "metadata": {},
   "outputs": [],
   "source": [
    "temp_df = non_local_outliers"
   ]
  },
  {
   "cell_type": "markdown",
   "id": "968d60bc",
   "metadata": {},
   "source": [
    "#### Test Non Local Outliers"
   ]
  },
  {
   "cell_type": "code",
   "execution_count": 102,
   "id": "a0652405",
   "metadata": {},
   "outputs": [],
   "source": [
    "non_local_outliers = pd.get_dummies(non_local_outliers, drop_first=True)"
   ]
  },
  {
   "cell_type": "code",
   "execution_count": 103,
   "id": "b710f8c6",
   "metadata": {},
   "outputs": [],
   "source": [
    "X = non_local_outliers.drop('SalePrice', axis=1)\n",
    "y = non_local_outliers[['SalePrice']]\n",
    "\n",
    "X_train, X_test, y_train, y_test = train_test_split(X, y, test_size=0.2, random_state=7)"
   ]
  },
  {
   "cell_type": "code",
   "execution_count": 104,
   "id": "250e6dbf",
   "metadata": {},
   "outputs": [
    {
     "data": {
      "text/plain": [
       "0.9096735738461703"
      ]
     },
     "execution_count": 104,
     "metadata": {},
     "output_type": "execute_result"
    }
   ],
   "source": [
    "reg_model = LinearRegression().fit(X_train, y_train)\n",
    "\n",
    "y_pred = reg_model.predict(X_train)\n",
    "\n",
    "reg_model.score(X_test, y_test) # R-square"
   ]
  },
  {
   "cell_type": "markdown",
   "id": "cc1f19e5",
   "metadata": {},
   "source": [
    "#### Save"
   ]
  },
  {
   "cell_type": "code",
   "execution_count": 105,
   "id": "3427ca42",
   "metadata": {},
   "outputs": [],
   "source": [
    "df = temp_df"
   ]
  },
  {
   "cell_type": "code",
   "execution_count": 106,
   "id": "05779c12",
   "metadata": {},
   "outputs": [
    {
     "data": {
      "text/plain": [
       "(1446, 75)"
      ]
     },
     "execution_count": 106,
     "metadata": {},
     "output_type": "execute_result"
    }
   ],
   "source": [
    "df.shape"
   ]
  },
  {
   "cell_type": "code",
   "execution_count": 108,
   "id": "3a219e84",
   "metadata": {},
   "outputs": [],
   "source": [
    "df.to_parquet(\"datasets/outliers/non_outliers.parquet\", index=False)"
   ]
  },
  {
   "cell_type": "code",
   "execution_count": 109,
   "id": "ad298ce0",
   "metadata": {},
   "outputs": [],
   "source": [
    "spark.stop()"
   ]
  },
  {
   "cell_type": "markdown",
   "id": "1945b40e",
   "metadata": {},
   "source": [
    "### Conclusion\n",
    "\n",
    "<div class=\"alert alert-block alert-info\"> <b>Final:</b> After handle the outliers, accuracy increased <b>0.656871453071109<b> to <b>0.9096735738461703<b> </div>"
   ]
  },
  {
   "cell_type": "markdown",
   "id": "2d410fc7",
   "metadata": {},
   "source": [
    "## Final Conclusion"
   ]
  },
  {
   "cell_type": "markdown",
   "id": "1fcdccc6",
   "metadata": {},
   "source": [
    "<div class=\"alert alert-block alert-info\"> <b>Final:</b> After handle the missing values and outlier values, accuracy increased <b>0.5709561893035657<b> to <b>0.9096735738461703<b> </div>"
   ]
  }
 ],
 "metadata": {
  "kernelspec": {
   "display_name": "Python 3 (Spyder)",
   "language": "python3",
   "name": "python3"
  },
  "language_info": {
   "codemirror_mode": {
    "name": "ipython",
    "version": 3
   },
   "file_extension": ".py",
   "mimetype": "text/x-python",
   "name": "python",
   "nbconvert_exporter": "python",
   "pygments_lexer": "ipython3",
   "version": "3.9.13"
  }
 },
 "nbformat": 4,
 "nbformat_minor": 5
}
